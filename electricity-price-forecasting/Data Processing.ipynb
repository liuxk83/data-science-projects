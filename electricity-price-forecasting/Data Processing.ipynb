{
 "cells": [
  {
   "cell_type": "code",
   "execution_count": null,
   "metadata": {},
   "outputs": [],
   "source": [
    "import numpy as np\n",
    "import pandas as pd\n",
    "import matplotlib.pyplot as plt\n"
   ]
  },
  {
   "cell_type": "code",
   "execution_count": 2,
   "metadata": {},
   "outputs": [
    {
     "data": {
      "text/html": [
       "<div>\n",
       "<style scoped>\n",
       "    .dataframe tbody tr th:only-of-type {\n",
       "        vertical-align: middle;\n",
       "    }\n",
       "\n",
       "    .dataframe tbody tr th {\n",
       "        vertical-align: top;\n",
       "    }\n",
       "\n",
       "    .dataframe thead th {\n",
       "        text-align: right;\n",
       "    }\n",
       "</style>\n",
       "<table border=\"1\" class=\"dataframe\">\n",
       "  <thead>\n",
       "    <tr style=\"text-align: right;\">\n",
       "      <th></th>\n",
       "      <th>year</th>\n",
       "      <th>month</th>\n",
       "      <th>stateDescription</th>\n",
       "      <th>sectorName</th>\n",
       "      <th>customers</th>\n",
       "      <th>price</th>\n",
       "      <th>revenue</th>\n",
       "      <th>sales</th>\n",
       "    </tr>\n",
       "  </thead>\n",
       "  <tbody>\n",
       "    <tr>\n",
       "      <th>0</th>\n",
       "      <td>2001</td>\n",
       "      <td>1</td>\n",
       "      <td>Wyoming</td>\n",
       "      <td>all sectors</td>\n",
       "      <td>NaN</td>\n",
       "      <td>4.31</td>\n",
       "      <td>48.12840</td>\n",
       "      <td>1116.17208</td>\n",
       "    </tr>\n",
       "    <tr>\n",
       "      <th>1</th>\n",
       "      <td>2001</td>\n",
       "      <td>1</td>\n",
       "      <td>Wyoming</td>\n",
       "      <td>commercial</td>\n",
       "      <td>NaN</td>\n",
       "      <td>5.13</td>\n",
       "      <td>12.67978</td>\n",
       "      <td>247.08691</td>\n",
       "    </tr>\n",
       "    <tr>\n",
       "      <th>2</th>\n",
       "      <td>2001</td>\n",
       "      <td>1</td>\n",
       "      <td>Wyoming</td>\n",
       "      <td>industrial</td>\n",
       "      <td>NaN</td>\n",
       "      <td>3.26</td>\n",
       "      <td>19.60858</td>\n",
       "      <td>602.30484</td>\n",
       "    </tr>\n",
       "    <tr>\n",
       "      <th>3</th>\n",
       "      <td>2001</td>\n",
       "      <td>1</td>\n",
       "      <td>Wyoming</td>\n",
       "      <td>other</td>\n",
       "      <td>NaN</td>\n",
       "      <td>4.75</td>\n",
       "      <td>0.76868</td>\n",
       "      <td>16.17442</td>\n",
       "    </tr>\n",
       "    <tr>\n",
       "      <th>4</th>\n",
       "      <td>2001</td>\n",
       "      <td>1</td>\n",
       "      <td>Wyoming</td>\n",
       "      <td>residential</td>\n",
       "      <td>NaN</td>\n",
       "      <td>6.01</td>\n",
       "      <td>15.07136</td>\n",
       "      <td>250.60591</td>\n",
       "    </tr>\n",
       "    <tr>\n",
       "      <th>...</th>\n",
       "      <td>...</td>\n",
       "      <td>...</td>\n",
       "      <td>...</td>\n",
       "      <td>...</td>\n",
       "      <td>...</td>\n",
       "      <td>...</td>\n",
       "      <td>...</td>\n",
       "      <td>...</td>\n",
       "    </tr>\n",
       "    <tr>\n",
       "      <th>85865</th>\n",
       "      <td>2024</td>\n",
       "      <td>1</td>\n",
       "      <td>Arkansas</td>\n",
       "      <td>all sectors</td>\n",
       "      <td>1717720.0</td>\n",
       "      <td>9.63</td>\n",
       "      <td>442.98773</td>\n",
       "      <td>4598.63147</td>\n",
       "    </tr>\n",
       "    <tr>\n",
       "      <th>85866</th>\n",
       "      <td>2024</td>\n",
       "      <td>1</td>\n",
       "      <td>Arkansas</td>\n",
       "      <td>commercial</td>\n",
       "      <td>208669.0</td>\n",
       "      <td>10.26</td>\n",
       "      <td>97.79467</td>\n",
       "      <td>953.02154</td>\n",
       "    </tr>\n",
       "    <tr>\n",
       "      <th>85867</th>\n",
       "      <td>2024</td>\n",
       "      <td>1</td>\n",
       "      <td>Arkansas</td>\n",
       "      <td>industrial</td>\n",
       "      <td>34951.0</td>\n",
       "      <td>7.08</td>\n",
       "      <td>109.92656</td>\n",
       "      <td>1553.02838</td>\n",
       "    </tr>\n",
       "    <tr>\n",
       "      <th>85868</th>\n",
       "      <td>2024</td>\n",
       "      <td>1</td>\n",
       "      <td>Arkansas</td>\n",
       "      <td>residential</td>\n",
       "      <td>1474098.0</td>\n",
       "      <td>11.24</td>\n",
       "      <td>235.26399</td>\n",
       "      <td>2092.56172</td>\n",
       "    </tr>\n",
       "    <tr>\n",
       "      <th>85869</th>\n",
       "      <td>2024</td>\n",
       "      <td>1</td>\n",
       "      <td>Arkansas</td>\n",
       "      <td>transportation</td>\n",
       "      <td>2.0</td>\n",
       "      <td>12.70</td>\n",
       "      <td>0.00252</td>\n",
       "      <td>0.01984</td>\n",
       "    </tr>\n",
       "  </tbody>\n",
       "</table>\n",
       "<p>85870 rows × 8 columns</p>\n",
       "</div>"
      ],
      "text/plain": [
       "       year  month stateDescription      sectorName  customers  price  \\\n",
       "0      2001      1          Wyoming     all sectors        NaN   4.31   \n",
       "1      2001      1          Wyoming      commercial        NaN   5.13   \n",
       "2      2001      1          Wyoming      industrial        NaN   3.26   \n",
       "3      2001      1          Wyoming           other        NaN   4.75   \n",
       "4      2001      1          Wyoming     residential        NaN   6.01   \n",
       "...     ...    ...              ...             ...        ...    ...   \n",
       "85865  2024      1         Arkansas     all sectors  1717720.0   9.63   \n",
       "85866  2024      1         Arkansas      commercial   208669.0  10.26   \n",
       "85867  2024      1         Arkansas      industrial    34951.0   7.08   \n",
       "85868  2024      1         Arkansas     residential  1474098.0  11.24   \n",
       "85869  2024      1         Arkansas  transportation        2.0  12.70   \n",
       "\n",
       "         revenue       sales  \n",
       "0       48.12840  1116.17208  \n",
       "1       12.67978   247.08691  \n",
       "2       19.60858   602.30484  \n",
       "3        0.76868    16.17442  \n",
       "4       15.07136   250.60591  \n",
       "...          ...         ...  \n",
       "85865  442.98773  4598.63147  \n",
       "85866   97.79467   953.02154  \n",
       "85867  109.92656  1553.02838  \n",
       "85868  235.26399  2092.56172  \n",
       "85869    0.00252     0.01984  \n",
       "\n",
       "[85870 rows x 8 columns]"
      ]
     },
     "execution_count": 2,
     "metadata": {},
     "output_type": "execute_result"
    }
   ],
   "source": [
    "# Load the dataset\n",
    "df_raw = pd.read_csv('clean_data.csv')\n",
    "df_raw\n"
   ]
  },
  {
   "cell_type": "code",
   "execution_count": 3,
   "metadata": {},
   "outputs": [
    {
     "name": "stdout",
     "output_type": "stream",
     "text": [
      "<class 'pandas.core.frame.DataFrame'>\n",
      "RangeIndex: 85870 entries, 0 to 85869\n",
      "Data columns (total 8 columns):\n",
      " #   Column            Non-Null Count  Dtype  \n",
      "---  ------            --------------  -----  \n",
      " 0   year              85870 non-null  int64  \n",
      " 1   month             85870 non-null  int64  \n",
      " 2   stateDescription  85870 non-null  object \n",
      " 3   sectorName        85870 non-null  object \n",
      " 4   customers         59830 non-null  float64\n",
      " 5   price             85870 non-null  float64\n",
      " 6   revenue           85870 non-null  float64\n",
      " 7   sales             85870 non-null  float64\n",
      "dtypes: float64(4), int64(2), object(2)\n",
      "memory usage: 5.2+ MB\n"
     ]
    }
   ],
   "source": [
    "df_raw.info()\n"
   ]
  },
  {
   "cell_type": "code",
   "execution_count": null,
   "metadata": {},
   "outputs": [
    {
     "data": {
      "text/plain": [
       "date\n",
       "2001-01-01     6.75\n",
       "2001-02-01     6.87\n",
       "2001-03-01     7.01\n",
       "2001-04-01     7.02\n",
       "2001-05-01     7.17\n",
       "              ...  \n",
       "2023-09-01    13.19\n",
       "2023-10-01    12.59\n",
       "2023-11-01    12.50\n",
       "2023-12-01    12.41\n",
       "2024-01-01    12.73\n",
       "Name: price, Length: 277, dtype: float64"
      ]
     },
     "execution_count": 8,
     "metadata": {},
     "output_type": "execute_result"
    }
   ],
   "source": [
    "df = df_raw.copy()\n",
    "df['date'] = pd.to_datetime(\n",
    "    df[['year', 'month']].assign(day=1)\n",
    ")\n",
    "\n",
    "df = df[(df['stateDescription'] == 'U.S. Total') & (df['sectorName'] == 'all sectors')]  \n",
    "df.set_index('date', inplace=True)\n",
    "\n",
    "avg_price = df['price']\n",
    "avg_price.to_csv('avg_price.csv')\n",
    "avg_price\n"
   ]
  },
  {
   "cell_type": "code",
   "execution_count": null,
   "metadata": {},
   "outputs": [
    {
     "data": {
      "image/png": "[encoded data removed]",
      "text/plain": [
       "<Figure size 720x432 with 1 Axes>"
      ]
     },
     "metadata": {
      "needs_background": "light"
     },
     "output_type": "display_data"
    }
   ],
   "source": [
    "plt.plot(avg_price)\n",
    "plt.gcf().set_size_inches(10, 6)\n",
    "plt.title('Average Price of Electricity in the U.S. (2001-2024)')\n",
    "plt.xlabel('Year')\n",
    "plt.ylabel('Price (cents per kilowatt hour)')\n",
    "plt.show()\n"
   ]
  },
  {
   "cell_type": "code",
   "execution_count": null,
   "metadata": {},
   "outputs": [],
   "source": []
  }
 ],
 "metadata": {
  "kernelspec": {
   "display_name": "base",
   "language": "python",
   "name": "python3"
  },
  "language_info": {
   "codemirror_mode": {
    "name": "ipython",
    "version": 3
   },
   "file_extension": ".py",
   "mimetype": "text/x-python",
   "name": "python",
   "nbconvert_exporter": "python",
   "pygments_lexer": "ipython3",
   "version": "3.9.12"
  }
 },
 "nbformat": 4,
 "nbformat_minor": 2
}
